{
  "nbformat": 4,
  "nbformat_minor": 0,
  "metadata": {
    "colab": {
      "name": "rain_tomorrow.ipynb",
      "provenance": [],
      "collapsed_sections": [
        "4GnbAgwcGNBN",
        "YoIU1iBKEips",
        "kT5xzgkBGXbu",
        "HOoD81rmGisY",
        "JVPyM77lGvzB"
      ]
    },
    "kernelspec": {
      "name": "python3",
      "display_name": "Python 3"
    }
  },
  "cells": [
    {
      "cell_type": "markdown",
      "metadata": {
        "id": "4GnbAgwcGNBN"
      },
      "source": [
        "# Подготовка датасета"
      ]
    },
    {
      "cell_type": "code",
      "metadata": {
        "id": "FXcyig48i-ps",
        "colab": {
          "base_uri": "https://localhost:8080/",
          "height": 35
        },
        "outputId": "18211e00-fb7f-4eb0-a526-76d2b7ca9aba"
      },
      "source": [
        "import pandas as pd\n",
        "import matplotlib.pyplot as plt\n",
        "%matplotlib inline\n",
        "import numpy as np\n",
        "import sklearn\n",
        "\n",
        "# открываем колабу доступ к гугл-диску, чтобы загрузить датасет\n",
        "from google.colab import drive\n",
        "drive.mount('/content/drive')"
      ],
      "execution_count": null,
      "outputs": [
        {
          "output_type": "stream",
          "text": [
            "Drive already mounted at /content/drive; to attempt to forcibly remount, call drive.mount(\"/content/drive\", force_remount=True).\n"
          ],
          "name": "stdout"
        }
      ]
    },
    {
      "cell_type": "code",
      "metadata": {
        "id": "t5mnjeZTm30l",
        "colab": {
          "base_uri": "https://localhost:8080/",
          "height": 121
        },
        "outputId": "9d4a9859-8c0c-4af8-ba4c-882b6849d264"
      },
      "source": [
        "# читаем файл, выводим переменные\n",
        "path = \"/content/drive/My Drive/Colab Notebooks/weatherAUS.csv\"\n",
        "data = pd.read_csv(path)\n",
        "data.columns"
      ],
      "execution_count": null,
      "outputs": [
        {
          "output_type": "execute_result",
          "data": {
            "text/plain": [
              "Index(['Date', 'Location', 'MinTemp', 'MaxTemp', 'Rainfall', 'Evaporation',\n",
              "       'Sunshine', 'WindGustDir', 'WindGustSpeed', 'WindDir9am', 'WindDir3pm',\n",
              "       'WindSpeed9am', 'WindSpeed3pm', 'Humidity9am', 'Humidity3pm',\n",
              "       'Pressure9am', 'Pressure3pm', 'Cloud9am', 'Cloud3pm', 'Temp9am',\n",
              "       'Temp3pm', 'RainToday', 'RISK_MM', 'RainTomorrow'],\n",
              "      dtype='object')"
            ]
          },
          "metadata": {
            "tags": []
          },
          "execution_count": 216
        }
      ]
    },
    {
      "cell_type": "code",
      "metadata": {
        "id": "2ezWJO6CKLRF",
        "colab": {
          "base_uri": "https://localhost:8080/",
          "height": 309
        },
        "outputId": "2f4ada68-ca60-4b05-f3b5-1f2fb5a9948a"
      },
      "source": [
        "data.head()"
      ],
      "execution_count": null,
      "outputs": [
        {
          "output_type": "execute_result",
          "data": {
            "text/html": [
              "<div>\n",
              "<style scoped>\n",
              "    .dataframe tbody tr th:only-of-type {\n",
              "        vertical-align: middle;\n",
              "    }\n",
              "\n",
              "    .dataframe tbody tr th {\n",
              "        vertical-align: top;\n",
              "    }\n",
              "\n",
              "    .dataframe thead th {\n",
              "        text-align: right;\n",
              "    }\n",
              "</style>\n",
              "<table border=\"1\" class=\"dataframe\">\n",
              "  <thead>\n",
              "    <tr style=\"text-align: right;\">\n",
              "      <th></th>\n",
              "      <th>Date</th>\n",
              "      <th>Location</th>\n",
              "      <th>MinTemp</th>\n",
              "      <th>MaxTemp</th>\n",
              "      <th>Rainfall</th>\n",
              "      <th>Evaporation</th>\n",
              "      <th>Sunshine</th>\n",
              "      <th>WindGustDir</th>\n",
              "      <th>WindGustSpeed</th>\n",
              "      <th>WindDir9am</th>\n",
              "      <th>WindDir3pm</th>\n",
              "      <th>WindSpeed9am</th>\n",
              "      <th>WindSpeed3pm</th>\n",
              "      <th>Humidity9am</th>\n",
              "      <th>Humidity3pm</th>\n",
              "      <th>Pressure9am</th>\n",
              "      <th>Pressure3pm</th>\n",
              "      <th>Cloud9am</th>\n",
              "      <th>Cloud3pm</th>\n",
              "      <th>Temp9am</th>\n",
              "      <th>Temp3pm</th>\n",
              "      <th>RainToday</th>\n",
              "      <th>RISK_MM</th>\n",
              "      <th>RainTomorrow</th>\n",
              "    </tr>\n",
              "  </thead>\n",
              "  <tbody>\n",
              "    <tr>\n",
              "      <th>0</th>\n",
              "      <td>2008-12-01</td>\n",
              "      <td>Albury</td>\n",
              "      <td>13.4</td>\n",
              "      <td>22.9</td>\n",
              "      <td>0.6</td>\n",
              "      <td>NaN</td>\n",
              "      <td>NaN</td>\n",
              "      <td>W</td>\n",
              "      <td>44.0</td>\n",
              "      <td>W</td>\n",
              "      <td>WNW</td>\n",
              "      <td>20.0</td>\n",
              "      <td>24.0</td>\n",
              "      <td>71.0</td>\n",
              "      <td>22.0</td>\n",
              "      <td>1007.7</td>\n",
              "      <td>1007.1</td>\n",
              "      <td>8.0</td>\n",
              "      <td>NaN</td>\n",
              "      <td>16.9</td>\n",
              "      <td>21.8</td>\n",
              "      <td>No</td>\n",
              "      <td>0.0</td>\n",
              "      <td>No</td>\n",
              "    </tr>\n",
              "    <tr>\n",
              "      <th>1</th>\n",
              "      <td>2008-12-02</td>\n",
              "      <td>Albury</td>\n",
              "      <td>7.4</td>\n",
              "      <td>25.1</td>\n",
              "      <td>0.0</td>\n",
              "      <td>NaN</td>\n",
              "      <td>NaN</td>\n",
              "      <td>WNW</td>\n",
              "      <td>44.0</td>\n",
              "      <td>NNW</td>\n",
              "      <td>WSW</td>\n",
              "      <td>4.0</td>\n",
              "      <td>22.0</td>\n",
              "      <td>44.0</td>\n",
              "      <td>25.0</td>\n",
              "      <td>1010.6</td>\n",
              "      <td>1007.8</td>\n",
              "      <td>NaN</td>\n",
              "      <td>NaN</td>\n",
              "      <td>17.2</td>\n",
              "      <td>24.3</td>\n",
              "      <td>No</td>\n",
              "      <td>0.0</td>\n",
              "      <td>No</td>\n",
              "    </tr>\n",
              "    <tr>\n",
              "      <th>2</th>\n",
              "      <td>2008-12-03</td>\n",
              "      <td>Albury</td>\n",
              "      <td>12.9</td>\n",
              "      <td>25.7</td>\n",
              "      <td>0.0</td>\n",
              "      <td>NaN</td>\n",
              "      <td>NaN</td>\n",
              "      <td>WSW</td>\n",
              "      <td>46.0</td>\n",
              "      <td>W</td>\n",
              "      <td>WSW</td>\n",
              "      <td>19.0</td>\n",
              "      <td>26.0</td>\n",
              "      <td>38.0</td>\n",
              "      <td>30.0</td>\n",
              "      <td>1007.6</td>\n",
              "      <td>1008.7</td>\n",
              "      <td>NaN</td>\n",
              "      <td>2.0</td>\n",
              "      <td>21.0</td>\n",
              "      <td>23.2</td>\n",
              "      <td>No</td>\n",
              "      <td>0.0</td>\n",
              "      <td>No</td>\n",
              "    </tr>\n",
              "    <tr>\n",
              "      <th>3</th>\n",
              "      <td>2008-12-04</td>\n",
              "      <td>Albury</td>\n",
              "      <td>9.2</td>\n",
              "      <td>28.0</td>\n",
              "      <td>0.0</td>\n",
              "      <td>NaN</td>\n",
              "      <td>NaN</td>\n",
              "      <td>NE</td>\n",
              "      <td>24.0</td>\n",
              "      <td>SE</td>\n",
              "      <td>E</td>\n",
              "      <td>11.0</td>\n",
              "      <td>9.0</td>\n",
              "      <td>45.0</td>\n",
              "      <td>16.0</td>\n",
              "      <td>1017.6</td>\n",
              "      <td>1012.8</td>\n",
              "      <td>NaN</td>\n",
              "      <td>NaN</td>\n",
              "      <td>18.1</td>\n",
              "      <td>26.5</td>\n",
              "      <td>No</td>\n",
              "      <td>1.0</td>\n",
              "      <td>No</td>\n",
              "    </tr>\n",
              "    <tr>\n",
              "      <th>4</th>\n",
              "      <td>2008-12-05</td>\n",
              "      <td>Albury</td>\n",
              "      <td>17.5</td>\n",
              "      <td>32.3</td>\n",
              "      <td>1.0</td>\n",
              "      <td>NaN</td>\n",
              "      <td>NaN</td>\n",
              "      <td>W</td>\n",
              "      <td>41.0</td>\n",
              "      <td>ENE</td>\n",
              "      <td>NW</td>\n",
              "      <td>7.0</td>\n",
              "      <td>20.0</td>\n",
              "      <td>82.0</td>\n",
              "      <td>33.0</td>\n",
              "      <td>1010.8</td>\n",
              "      <td>1006.0</td>\n",
              "      <td>7.0</td>\n",
              "      <td>8.0</td>\n",
              "      <td>17.8</td>\n",
              "      <td>29.7</td>\n",
              "      <td>No</td>\n",
              "      <td>0.2</td>\n",
              "      <td>No</td>\n",
              "    </tr>\n",
              "  </tbody>\n",
              "</table>\n",
              "</div>"
            ],
            "text/plain": [
              "         Date Location  MinTemp  ...  RainToday  RISK_MM  RainTomorrow\n",
              "0  2008-12-01   Albury     13.4  ...         No      0.0            No\n",
              "1  2008-12-02   Albury      7.4  ...         No      0.0            No\n",
              "2  2008-12-03   Albury     12.9  ...         No      0.0            No\n",
              "3  2008-12-04   Albury      9.2  ...         No      1.0            No\n",
              "4  2008-12-05   Albury     17.5  ...         No      0.2            No\n",
              "\n",
              "[5 rows x 24 columns]"
            ]
          },
          "metadata": {
            "tags": []
          },
          "execution_count": 217
        }
      ]
    },
    {
      "cell_type": "markdown",
      "metadata": {
        "id": "czeoZic2pEaB"
      },
      "source": [
        "Описание переменных датасета:\n",
        "* Date - дата наблюдений\n",
        "* Location - локация, в которой расположена метеорологическая станция\n",
        "* MinTemp - минимальная температура (℃)\n",
        "* MaxTemp - максимальная температура (℃)\n",
        "* Rainfall - количество осадков, зафиксированных за день (мм)\n",
        "* Evaporation - \"pan evaporation\" класса А (мм) за 24 часа до 9 утра\n",
        "* Sunshine - число солнечных часов за день\n",
        "* WindGustDir - направление самого сильного порыва ветра за последние 24 часа\n",
        "* WindGustSpeed - скорость самого сильного порыва ветра за последние 24 часа (км/ч)\n",
        "* WindDir9am - направление ветра в 9 часов утра\n",
        "* WindDir3pm - направление ветра в 3 часа ночи\n",
        "* WindSpeed9am - скорость ветра в 9 часов утра (км/ч)\n",
        "* WindSpeed3pm - скорость ветра в 3 часа ночи (км/ч)\n",
        "* Humidity9am - влажность воздуха в 9 часов утра (%)\n",
        "* Humidity3pm - влажность воздуха в 3 часа ночи (%)\n",
        "* Pressure9am - давление в 9 часов утра (hPa)\n",
        "* Pressure3pm - давление в 3 часа ночи (hPa)\n",
        "* Cloud9am - облачность в 9 часов утра (oktas)\n",
        "* Cloud3pm - облачность в 3 часа ночи (oktas)\n",
        "* Temp9am - температура в 9 часов утра (℃)\n",
        "* Temp3pm - температура в 3 часа ночи (℃)\n",
        "* RainToday - есть ли сегодня дождь\n",
        "* RISK_MM - мера риска возникновения дождя на следующий день (мм)\n",
        "* RainTomorrow - будет ли завтра дождь (целевая переменная)\n",
        "\n",
        "Переменная RISK_MM используется для создания целевой переменной (если RISK_MM < 1 мм, считаем, что дождя не будет). Удалим этот столбец из датасета (как это указано в исходнике задания на kaggle), так как по факту по нему и рассчитывают таргет синоптики, а значит, с его использованием точность предсказаний будет завышена (проверено экспериментально)."
      ]
    },
    {
      "cell_type": "code",
      "metadata": {
        "id": "DASAJotsmFfx"
      },
      "source": [
        "data = data.drop('RISK_MM', axis=1)"
      ],
      "execution_count": null,
      "outputs": []
    },
    {
      "cell_type": "markdown",
      "metadata": {
        "id": "eD2zCesBmzwj"
      },
      "source": [
        "Далее нам нужно привести все номинальные признаки в порядковые."
      ]
    },
    {
      "cell_type": "code",
      "metadata": {
        "id": "xxUfM-zpKvXQ"
      },
      "source": [
        "# приведём значения столбца Date ко дню года\n",
        "data['Date'] = pd.to_datetime(data['Date'])\n",
        "data['Date'] = data['Date'].dt.dayofyear\n",
        "\n",
        "# заменяем значения столбца Location\n",
        "# сделал через tranform, дальше буду через более короткий map\n",
        "temp_dict = dict(zip(data['Location'].dropna().unique().tolist(), range(len(data['Location'].dropna().unique().tolist()))))\n",
        "data['Location'] = data['Location'].transform(lambda x: temp_dict.get(x))\n",
        "\n",
        "# совместно обрабатываем WindGustDir, WindDir9am, WindDir3pm\n",
        "temp_dict = dict(zip(data['WindGustDir'].dropna().unique().tolist(), range(len(data['WindGustDir'].dropna().unique().tolist()))))\n",
        "data['WindGustDir'] = data['WindGustDir'].map(temp_dict)\n",
        "data['WindDir9am'] = data['WindDir9am'].map(temp_dict)\n",
        "data['WindDir3pm'] = data['WindDir3pm'].map(temp_dict)"
      ],
      "execution_count": null,
      "outputs": []
    },
    {
      "cell_type": "code",
      "metadata": {
        "id": "yYFrZanfvOOq",
        "colab": {
          "base_uri": "https://localhost:8080/",
          "height": 537
        },
        "outputId": "ebceed1f-7c0c-4d8d-8dab-b75a0f4ce8e7"
      },
      "source": [
        "# проверяем количество ненулевых объектов в датасете\n",
        "data.info()"
      ],
      "execution_count": null,
      "outputs": [
        {
          "output_type": "stream",
          "text": [
            "<class 'pandas.core.frame.DataFrame'>\n",
            "RangeIndex: 142193 entries, 0 to 142192\n",
            "Data columns (total 23 columns):\n",
            " #   Column         Non-Null Count   Dtype  \n",
            "---  ------         --------------   -----  \n",
            " 0   Date           142193 non-null  int64  \n",
            " 1   Location       142193 non-null  int64  \n",
            " 2   MinTemp        141556 non-null  float64\n",
            " 3   MaxTemp        141871 non-null  float64\n",
            " 4   Rainfall       140787 non-null  float64\n",
            " 5   Evaporation    81350 non-null   float64\n",
            " 6   Sunshine       74377 non-null   float64\n",
            " 7   WindGustDir    132863 non-null  float64\n",
            " 8   WindGustSpeed  132923 non-null  float64\n",
            " 9   WindDir9am     132180 non-null  float64\n",
            " 10  WindDir3pm     138415 non-null  float64\n",
            " 11  WindSpeed9am   140845 non-null  float64\n",
            " 12  WindSpeed3pm   139563 non-null  float64\n",
            " 13  Humidity9am    140419 non-null  float64\n",
            " 14  Humidity3pm    138583 non-null  float64\n",
            " 15  Pressure9am    128179 non-null  float64\n",
            " 16  Pressure3pm    128212 non-null  float64\n",
            " 17  Cloud9am       88536 non-null   float64\n",
            " 18  Cloud3pm       85099 non-null   float64\n",
            " 19  Temp9am        141289 non-null  float64\n",
            " 20  Temp3pm        139467 non-null  float64\n",
            " 21  RainToday      140787 non-null  object \n",
            " 22  RainTomorrow   142193 non-null  object \n",
            "dtypes: float64(19), int64(2), object(2)\n",
            "memory usage: 25.0+ MB\n"
          ],
          "name": "stdout"
        }
      ]
    },
    {
      "cell_type": "markdown",
      "metadata": {
        "id": "O-mzvZ20VT8o"
      },
      "source": [
        "Как мы можем видеть, RainToday содержит пропуски данных. Мы не можем заменить их медианными или средними значениями, так как это данные бинарного типа. Кроме того, RainToday может сильно влиять на таргет. Так как пропусков немного (< 1%), самым простым выходом из ситуации будет удаление строк с пропусками в RainToday."
      ]
    },
    {
      "cell_type": "code",
      "metadata": {
        "id": "3VA9fe4tXQLV",
        "colab": {
          "base_uri": "https://localhost:8080/",
          "height": 35
        },
        "outputId": "4857f323-5b03-43c5-ee8c-34230161e29e"
      },
      "source": [
        "data = data[data.RainToday.notnull()]\n",
        "\n",
        "# обновляем индексы строк датасета\n",
        "data = data.reset_index(drop=True)\n",
        "\n",
        "# выводим уникальные значения RainToday (такие же у RainTomorrow)\n",
        "data['RainToday'].unique().tolist()"
      ],
      "execution_count": null,
      "outputs": [
        {
          "output_type": "execute_result",
          "data": {
            "text/plain": [
              "['No', 'Yes']"
            ]
          },
          "metadata": {
            "tags": []
          },
          "execution_count": 221
        }
      ]
    },
    {
      "cell_type": "code",
      "metadata": {
        "id": "64IQ7DPA_zz5"
      },
      "source": [
        "# вручную заменяем значения RainToday и RainTommorow\n",
        "data['RainToday'] = data['RainToday'].map({'No': False, 'Yes': True}).astype(bool)\n",
        "data['RainTomorrow'] = data['RainTomorrow'].map({'No': False, 'Yes': True}).astype(bool)"
      ],
      "execution_count": null,
      "outputs": []
    },
    {
      "cell_type": "code",
      "metadata": {
        "id": "CQILX6jCxaLM",
        "colab": {
          "base_uri": "https://localhost:8080/",
          "height": 222
        },
        "outputId": "7942738d-4978-48d5-c485-7d1e09493b76"
      },
      "source": [
        "data.head()"
      ],
      "execution_count": null,
      "outputs": [
        {
          "output_type": "execute_result",
          "data": {
            "text/html": [
              "<div>\n",
              "<style scoped>\n",
              "    .dataframe tbody tr th:only-of-type {\n",
              "        vertical-align: middle;\n",
              "    }\n",
              "\n",
              "    .dataframe tbody tr th {\n",
              "        vertical-align: top;\n",
              "    }\n",
              "\n",
              "    .dataframe thead th {\n",
              "        text-align: right;\n",
              "    }\n",
              "</style>\n",
              "<table border=\"1\" class=\"dataframe\">\n",
              "  <thead>\n",
              "    <tr style=\"text-align: right;\">\n",
              "      <th></th>\n",
              "      <th>Date</th>\n",
              "      <th>Location</th>\n",
              "      <th>MinTemp</th>\n",
              "      <th>MaxTemp</th>\n",
              "      <th>Rainfall</th>\n",
              "      <th>Evaporation</th>\n",
              "      <th>Sunshine</th>\n",
              "      <th>WindGustDir</th>\n",
              "      <th>WindGustSpeed</th>\n",
              "      <th>WindDir9am</th>\n",
              "      <th>WindDir3pm</th>\n",
              "      <th>WindSpeed9am</th>\n",
              "      <th>WindSpeed3pm</th>\n",
              "      <th>Humidity9am</th>\n",
              "      <th>Humidity3pm</th>\n",
              "      <th>Pressure9am</th>\n",
              "      <th>Pressure3pm</th>\n",
              "      <th>Cloud9am</th>\n",
              "      <th>Cloud3pm</th>\n",
              "      <th>Temp9am</th>\n",
              "      <th>Temp3pm</th>\n",
              "      <th>RainToday</th>\n",
              "      <th>RainTomorrow</th>\n",
              "    </tr>\n",
              "  </thead>\n",
              "  <tbody>\n",
              "    <tr>\n",
              "      <th>0</th>\n",
              "      <td>336</td>\n",
              "      <td>0</td>\n",
              "      <td>13.4</td>\n",
              "      <td>22.9</td>\n",
              "      <td>0.6</td>\n",
              "      <td>NaN</td>\n",
              "      <td>NaN</td>\n",
              "      <td>0.0</td>\n",
              "      <td>44.0</td>\n",
              "      <td>0.0</td>\n",
              "      <td>1.0</td>\n",
              "      <td>20.0</td>\n",
              "      <td>24.0</td>\n",
              "      <td>71.0</td>\n",
              "      <td>22.0</td>\n",
              "      <td>1007.7</td>\n",
              "      <td>1007.1</td>\n",
              "      <td>8.0</td>\n",
              "      <td>NaN</td>\n",
              "      <td>16.9</td>\n",
              "      <td>21.8</td>\n",
              "      <td>False</td>\n",
              "      <td>False</td>\n",
              "    </tr>\n",
              "    <tr>\n",
              "      <th>1</th>\n",
              "      <td>337</td>\n",
              "      <td>0</td>\n",
              "      <td>7.4</td>\n",
              "      <td>25.1</td>\n",
              "      <td>0.0</td>\n",
              "      <td>NaN</td>\n",
              "      <td>NaN</td>\n",
              "      <td>1.0</td>\n",
              "      <td>44.0</td>\n",
              "      <td>4.0</td>\n",
              "      <td>2.0</td>\n",
              "      <td>4.0</td>\n",
              "      <td>22.0</td>\n",
              "      <td>44.0</td>\n",
              "      <td>25.0</td>\n",
              "      <td>1010.6</td>\n",
              "      <td>1007.8</td>\n",
              "      <td>NaN</td>\n",
              "      <td>NaN</td>\n",
              "      <td>17.2</td>\n",
              "      <td>24.3</td>\n",
              "      <td>False</td>\n",
              "      <td>False</td>\n",
              "    </tr>\n",
              "    <tr>\n",
              "      <th>2</th>\n",
              "      <td>338</td>\n",
              "      <td>0</td>\n",
              "      <td>12.9</td>\n",
              "      <td>25.7</td>\n",
              "      <td>0.0</td>\n",
              "      <td>NaN</td>\n",
              "      <td>NaN</td>\n",
              "      <td>2.0</td>\n",
              "      <td>46.0</td>\n",
              "      <td>0.0</td>\n",
              "      <td>2.0</td>\n",
              "      <td>19.0</td>\n",
              "      <td>26.0</td>\n",
              "      <td>38.0</td>\n",
              "      <td>30.0</td>\n",
              "      <td>1007.6</td>\n",
              "      <td>1008.7</td>\n",
              "      <td>NaN</td>\n",
              "      <td>2.0</td>\n",
              "      <td>21.0</td>\n",
              "      <td>23.2</td>\n",
              "      <td>False</td>\n",
              "      <td>False</td>\n",
              "    </tr>\n",
              "    <tr>\n",
              "      <th>3</th>\n",
              "      <td>339</td>\n",
              "      <td>0</td>\n",
              "      <td>9.2</td>\n",
              "      <td>28.0</td>\n",
              "      <td>0.0</td>\n",
              "      <td>NaN</td>\n",
              "      <td>NaN</td>\n",
              "      <td>3.0</td>\n",
              "      <td>24.0</td>\n",
              "      <td>12.0</td>\n",
              "      <td>14.0</td>\n",
              "      <td>11.0</td>\n",
              "      <td>9.0</td>\n",
              "      <td>45.0</td>\n",
              "      <td>16.0</td>\n",
              "      <td>1017.6</td>\n",
              "      <td>1012.8</td>\n",
              "      <td>NaN</td>\n",
              "      <td>NaN</td>\n",
              "      <td>18.1</td>\n",
              "      <td>26.5</td>\n",
              "      <td>False</td>\n",
              "      <td>False</td>\n",
              "    </tr>\n",
              "    <tr>\n",
              "      <th>4</th>\n",
              "      <td>340</td>\n",
              "      <td>0</td>\n",
              "      <td>17.5</td>\n",
              "      <td>32.3</td>\n",
              "      <td>1.0</td>\n",
              "      <td>NaN</td>\n",
              "      <td>NaN</td>\n",
              "      <td>0.0</td>\n",
              "      <td>41.0</td>\n",
              "      <td>8.0</td>\n",
              "      <td>11.0</td>\n",
              "      <td>7.0</td>\n",
              "      <td>20.0</td>\n",
              "      <td>82.0</td>\n",
              "      <td>33.0</td>\n",
              "      <td>1010.8</td>\n",
              "      <td>1006.0</td>\n",
              "      <td>7.0</td>\n",
              "      <td>8.0</td>\n",
              "      <td>17.8</td>\n",
              "      <td>29.7</td>\n",
              "      <td>False</td>\n",
              "      <td>False</td>\n",
              "    </tr>\n",
              "  </tbody>\n",
              "</table>\n",
              "</div>"
            ],
            "text/plain": [
              "   Date  Location  MinTemp  MaxTemp  ...  Temp9am  Temp3pm  RainToday  RainTomorrow\n",
              "0   336         0     13.4     22.9  ...     16.9     21.8      False         False\n",
              "1   337         0      7.4     25.1  ...     17.2     24.3      False         False\n",
              "2   338         0     12.9     25.7  ...     21.0     23.2      False         False\n",
              "3   339         0      9.2     28.0  ...     18.1     26.5      False         False\n",
              "4   340         0     17.5     32.3  ...     17.8     29.7      False         False\n",
              "\n",
              "[5 rows x 23 columns]"
            ]
          },
          "metadata": {
            "tags": []
          },
          "execution_count": 223
        }
      ]
    },
    {
      "cell_type": "markdown",
      "metadata": {
        "id": "9D0FuBfHaALj"
      },
      "source": [
        "Теперь все номинальные признаки приведены к порядковым.\n",
        "\n",
        "Заполним оставшиеся пропуски в данных на медианные значения по столбцам. Так как в дальнейшем мы будем делить выборку на train и test, лучше всего сначала совершить разделение, а потом отдельно заполнить пропуски в обеих частях."
      ]
    },
    {
      "cell_type": "code",
      "metadata": {
        "id": "Z6EJtawv4ntj"
      },
      "source": [
        "# разбиваем выборку на train и test\n",
        "from sklearn.model_selection import train_test_split\n",
        "Y = data['RainTomorrow']\n",
        "X = data.iloc[:,:data.shape[1]-1]\n",
        "x_train, x_test, y_train, y_test = train_test_split(X, Y, test_size=0.25, shuffle=False)\n",
        "\n",
        "# заменяем все NaN на медианные значения столбцов\n",
        "x_train = x_train.apply(lambda x: x.fillna(x.median()))\n",
        "x_test = x_test.apply(lambda x: x.fillna(x.median()))"
      ],
      "execution_count": null,
      "outputs": []
    },
    {
      "cell_type": "markdown",
      "metadata": {
        "id": "hzQvnHR6IK-V"
      },
      "source": [
        "На этом этап предобработки датасета можем считать завершённым, переходим к подбору и обучению моделей."
      ]
    },
    {
      "cell_type": "markdown",
      "metadata": {
        "id": "YoIU1iBKEips"
      },
      "source": [
        "# Наивный Байесовский классификатор"
      ]
    },
    {
      "cell_type": "markdown",
      "metadata": {
        "id": "H5kdb19TInFB"
      },
      "source": [
        "Используем для предсказания наивный Байесовский классификатор. Из нескольких байесов в sklearn выбираем GaussianNB, так как остальные не работают с нашим датасетом (либо выдают ValueError, либо работают неправильно, как BernoulliNB, рассчитанный на бинарные фичи)."
      ]
    },
    {
      "cell_type": "code",
      "metadata": {
        "id": "G2SSTh1g-2Tt"
      },
      "source": [
        "from sklearn.naive_bayes import GaussianNB\n",
        "bayes = GaussianNB()\n",
        "bayes.fit(x_train, y_train)\n",
        "prediction = bayes.predict(x_test)"
      ],
      "execution_count": null,
      "outputs": []
    },
    {
      "cell_type": "markdown",
      "metadata": {
        "id": "gFW_ggjKJox7"
      },
      "source": [
        "Проведём оценку качества модели различными метриками бинарной классификации. Для начала построим матрицу неточностей:"
      ]
    },
    {
      "cell_type": "code",
      "metadata": {
        "id": "bMEWgEINJyEe",
        "colab": {
          "base_uri": "https://localhost:8080/",
          "height": 279
        },
        "outputId": "178d4e59-cd4e-4299-a82c-48569b5ccf4d"
      },
      "source": [
        "from sklearn.metrics import plot_confusion_matrix\n",
        "plot_confusion_matrix(bayes, x_test, y_test) \n",
        "plt.show()"
      ],
      "execution_count": null,
      "outputs": [
        {
          "output_type": "display_data",
          "data": {
            "image/png": "[encoded data removed]",
            "text/plain": [
              "<Figure size 432x288 with 2 Axes>"
            ]
          },
          "metadata": {
            "tags": [],
            "needs_background": "light"
          }
        }
      ]
    },
    {
      "cell_type": "code",
      "metadata": {
        "id": "3kmKcCXteOu8",
        "colab": {
          "base_uri": "https://localhost:8080/",
          "height": 35
        },
        "outputId": "4a978c6b-778a-4b2a-aaea-a7cbb77581be"
      },
      "source": [
        "from sklearn.metrics import accuracy_score, recall_score, precision_score, f1_score, roc_auc_score\n",
        "scores_bayes = [accuracy_score(y_test, prediction)]\n",
        "accuracy_score(y_test, prediction)"
      ],
      "execution_count": null,
      "outputs": [
        {
          "output_type": "execute_result",
          "data": {
            "text/plain": [
              "0.8360655737704918"
            ]
          },
          "metadata": {
            "tags": []
          },
          "execution_count": 227
        }
      ]
    },
    {
      "cell_type": "code",
      "metadata": {
        "id": "ob4FRhIri6-P",
        "colab": {
          "base_uri": "https://localhost:8080/",
          "height": 35
        },
        "outputId": "8f0a6e38-e2e4-452c-f18d-f1f1eeab651e"
      },
      "source": [
        "# полнота\n",
        "scores_bayes.append(recall_score(y_test, prediction))\n",
        "recall_score(y_test, prediction)"
      ],
      "execution_count": null,
      "outputs": [
        {
          "output_type": "execute_result",
          "data": {
            "text/plain": [
              "0.5304139491547983"
            ]
          },
          "metadata": {
            "tags": []
          },
          "execution_count": 228
        }
      ]
    },
    {
      "cell_type": "code",
      "metadata": {
        "id": "nIPa5UoylgEM",
        "colab": {
          "base_uri": "https://localhost:8080/",
          "height": 35
        },
        "outputId": "60469a24-ae88-4ec0-a583-b553a6737bed"
      },
      "source": [
        "# точность\n",
        "scores_bayes.append(precision_score(y_test, prediction))\n",
        "precision_score(y_test, prediction)"
      ],
      "execution_count": null,
      "outputs": [
        {
          "output_type": "execute_result",
          "data": {
            "text/plain": [
              "0.6399550345270596"
            ]
          },
          "metadata": {
            "tags": []
          },
          "execution_count": 229
        }
      ]
    },
    {
      "cell_type": "code",
      "metadata": {
        "id": "z8D-DQfOmNou",
        "colab": {
          "base_uri": "https://localhost:8080/",
          "height": 35
        },
        "outputId": "012ce30e-7ae2-4581-e2e7-032e962bd8c2"
      },
      "source": [
        "scores_bayes.append(f1_score(y_test, prediction))\n",
        "f1_score(y_test, prediction)"
      ],
      "execution_count": null,
      "outputs": [
        {
          "output_type": "execute_result",
          "data": {
            "text/plain": [
              "0.5800582241630275"
            ]
          },
          "metadata": {
            "tags": []
          },
          "execution_count": 230
        }
      ]
    },
    {
      "cell_type": "code",
      "metadata": {
        "id": "obZY1QGXCr5j",
        "colab": {
          "base_uri": "https://localhost:8080/",
          "height": 35
        },
        "outputId": "d261609f-916b-4579-ea3e-1f4b66cecc96"
      },
      "source": [
        "scores_bayes.append(roc_auc_score(y_test, prediction))\n",
        "roc_auc_score(y_test, prediction)"
      ],
      "execution_count": null,
      "outputs": [
        {
          "output_type": "execute_result",
          "data": {
            "text/plain": [
              "0.7247142712108336"
            ]
          },
          "metadata": {
            "tags": []
          },
          "execution_count": 231
        }
      ]
    },
    {
      "cell_type": "markdown",
      "metadata": {
        "id": "EXLIjCMMJWaM"
      },
      "source": [
        "Точность предсказания можно повысить, если поработать с признаками. Для этого найдём коэффициенты корреляции признаков:"
      ]
    },
    {
      "cell_type": "code",
      "metadata": {
        "id": "jF3AJpxkIIIO",
        "colab": {
          "base_uri": "https://localhost:8080/",
          "height": 357
        },
        "outputId": "8a09baca-05e1-40e3-de11-6914172a5731"
      },
      "source": [
        "# строим тепловую карту для обнаружения коррелирующих признаков\n",
        "import seaborn as sns\n",
        "sns.heatmap(x_train.corr())"
      ],
      "execution_count": null,
      "outputs": [
        {
          "output_type": "execute_result",
          "data": {
            "text/plain": [
              "<matplotlib.axes._subplots.AxesSubplot at 0x7f9f24bff2b0>"
            ]
          },
          "metadata": {
            "tags": []
          },
          "execution_count": 195
        },
        {
          "output_type": "display_data",
          "data": {
            "image/png": "[encoded data removed]",
            "text/plain": [
              "<Figure size 432x288 with 2 Axes>"
            ]
          },
          "metadata": {
            "tags": [],
            "needs_background": "light"
          }
        }
      ]
    },
    {
      "cell_type": "markdown",
      "metadata": {
        "id": "VyYDpFOv_7T2"
      },
      "source": [
        "Далее была проведена попытка дропнуть коррелирующие фичи из x_train и x_test:\n",
        "1. удалены Temp9am, Temp3pm, Cloud9am; получено:\n",
        "accuracy 0.837, recall 0.517, precision 0.647, f1 0.575, AUC 0.72\n",
        "2. удалены WindDir9am, WindSpeed9am, Temp9am, Humidity9am, Pressure9am, Cloud9am; получено:\n",
        "accuracy 0.834, recall 0.492, precision 0.646, f1 0.559, AUC 0.71\n",
        "\n",
        "Вывод: оставляем признаки как есть (без дропа показатели выше)."
      ]
    },
    {
      "cell_type": "code",
      "metadata": {
        "id": "fh3o_T0uDPCz"
      },
      "source": [
        "# блок, который дропает фичи\n",
        "x_train = x_train.drop(['WindDir9am','WindSpeed9am','Temp9am','Humidity9am','Pressure9am','Cloud9am'], axis=1)\n",
        "x_test = x_test.drop(['WindDir9am','WindSpeed9am','Temp9am','Humidity9am','Pressure9am','Cloud9am'], axis=1)\n",
        "bayes.fit(x_train, y_train)\n",
        "prediction = bayes.predict(x_test)"
      ],
      "execution_count": null,
      "outputs": []
    },
    {
      "cell_type": "markdown",
      "metadata": {
        "id": "kT5xzgkBGXbu"
      },
      "source": [
        "# Метод ближайших соседей"
      ]
    },
    {
      "cell_type": "markdown",
      "metadata": {
        "id": "aZAQ50XBHeP5"
      },
      "source": [
        "Используем для предсказания метод ближайших соседей. Попробуем варьировать количество соседей для улучшения качества работы модели. Так как для задачи с двумя классами берут нечётное число соседей во избежание неоднозначностей, будем ранжировать число соседей с шагом в 2."
      ]
    },
    {
      "cell_type": "code",
      "metadata": {
        "id": "VfljoFi9aqr7"
      },
      "source": [
        "%%time\n",
        "from sklearn.neighbors import KNeighborsClassifier\n",
        "f1_var = []\n",
        "auc_var = []\n",
        "n_nb = range(1, 12, 2)\n",
        "for i in n_nb:\n",
        "  neighbor = KNeighborsClassifier(n_neighbors=i)\n",
        "  neighbor.fit(x_train, y_train)\n",
        "  prediction = neighbor.predict(x_test)\n",
        "  f1_var.append((f1_score(y_test, prediction)))\n",
        "  auc_var.append((roc_auc_score(y_test, prediction)))"
      ],
      "execution_count": null,
      "outputs": []
    },
    {
      "cell_type": "code",
      "metadata": {
        "id": "ZK96shweJkM_"
      },
      "source": [
        "# строим графики зависимости метрик от числа соседей\n",
        "plt.figure()\n",
        "plt.xlabel(\"n_neighbors\")\n",
        "plt.ylabel(\"score\")\n",
        "plt.title(\"Score on KNeighborsClassifier\")\n",
        "plt.plot(n_nb, f1_var, color = \"blue\", label = \"f1_score\")\n",
        "plt.plot(n_nb, auc_var, color = \"red\", label = \"roc_auc_score\")\n",
        "plt.legend()"
      ],
      "execution_count": null,
      "outputs": []
    },
    {
      "cell_type": "markdown",
      "metadata": {
        "id": "EYvd-zvTPKeC"
      },
      "source": [
        "Наилучшие показатели метрик были получены при количестве соседей 7, рассчитаем для них все метрики:"
      ]
    },
    {
      "cell_type": "code",
      "metadata": {
        "id": "gRw_aQ9VPTA7"
      },
      "source": [
        "neighbor = KNeighborsClassifier(n_neighbors=7)\n",
        "neighbor.fit(x_train, y_train)\n",
        "prediction = neighbor.predict(x_test)\n",
        "\n",
        "# матрица неточностей\n",
        "plot_confusion_matrix(neighbor, x_test, y_test)\n",
        "plt.show()"
      ],
      "execution_count": null,
      "outputs": []
    },
    {
      "cell_type": "code",
      "metadata": {
        "id": "P1z7hV4ZPoqU"
      },
      "source": [
        "scores_neighbor = [accuracy_score(y_test, prediction)]\n",
        "accuracy_score(y_test, prediction)"
      ],
      "execution_count": null,
      "outputs": []
    },
    {
      "cell_type": "code",
      "metadata": {
        "id": "SO9kp72bP4KS"
      },
      "source": [
        "# полнота\n",
        "scores_neighbor.append(recall_score(y_test, prediction))\n",
        "recall_score(y_test, prediction)"
      ],
      "execution_count": null,
      "outputs": []
    },
    {
      "cell_type": "code",
      "metadata": {
        "id": "B-iOkehXP60x"
      },
      "source": [
        "# точность\n",
        "scores_neighbor.append(precision_score(y_test, prediction))\n",
        "precision_score(y_test, prediction)"
      ],
      "execution_count": null,
      "outputs": []
    },
    {
      "cell_type": "code",
      "metadata": {
        "id": "uMOc4y0EPpZC"
      },
      "source": [
        "scores_neighbor.append(f1_score(y_test, prediction))\n",
        "f1_score(y_test, prediction)"
      ],
      "execution_count": null,
      "outputs": []
    },
    {
      "cell_type": "code",
      "metadata": {
        "id": "OkpD_3X1Ppsm"
      },
      "source": [
        "scores_neighbor.append(roc_auc_score(y_test, prediction))\n",
        "roc_auc_score(y_test, prediction)"
      ],
      "execution_count": null,
      "outputs": []
    },
    {
      "cell_type": "markdown",
      "metadata": {
        "id": "HOoD81rmGisY"
      },
      "source": [
        "# Логистическая регрессия"
      ]
    },
    {
      "cell_type": "markdown",
      "metadata": {
        "id": "ZXcJeOApSzwe"
      },
      "source": [
        "Используем для предсказания логистическую регрессию. Так как данные не были нормированы, нет смысла проводить регуляризацию (+ пытался её провести, но результаты не изменились). max_iter подбираем эмпирически (на default выдаёт ошибку в связи с недостаточностью)."
      ]
    },
    {
      "cell_type": "code",
      "metadata": {
        "id": "vczo1B13GtTJ"
      },
      "source": [
        "from sklearn.linear_model import LogisticRegression\n",
        "\n",
        "log_reg = LogisticRegression(max_iter = 1000)\n",
        "log_reg.fit(x_train, y_train)\n",
        "prediction = log_reg.predict(x_test)"
      ],
      "execution_count": null,
      "outputs": []
    },
    {
      "cell_type": "code",
      "metadata": {
        "id": "0VCThbXab3Ra",
        "colab": {
          "base_uri": "https://localhost:8080/",
          "height": 279
        },
        "outputId": "6638602e-f65d-4fa2-d84e-d0de6a1d5411"
      },
      "source": [
        "# матрица неточностей\n",
        "plot_confusion_matrix(log_reg, x_test, y_test)\n",
        "plt.show()"
      ],
      "execution_count": null,
      "outputs": [
        {
          "output_type": "display_data",
          "data": {
            "image/png": "[encoded data removed]",
            "text/plain": [
              "<Figure size 432x288 with 2 Axes>"
            ]
          },
          "metadata": {
            "tags": [],
            "needs_background": "light"
          }
        }
      ]
    },
    {
      "cell_type": "code",
      "metadata": {
        "id": "BcGd8Hn5cEbY",
        "colab": {
          "base_uri": "https://localhost:8080/",
          "height": 35
        },
        "outputId": "b8a1c42d-d821-4f67-d3db-a963c6ba3269"
      },
      "source": [
        "scores_log_reg = [accuracy_score(y_test, prediction)]\n",
        "accuracy_score(y_test, prediction)"
      ],
      "execution_count": null,
      "outputs": [
        {
          "output_type": "execute_result",
          "data": {
            "text/plain": [
              "0.8446742620109668"
            ]
          },
          "metadata": {
            "tags": []
          },
          "execution_count": 244
        }
      ]
    },
    {
      "cell_type": "code",
      "metadata": {
        "id": "3oFBxaKVcH9b",
        "colab": {
          "base_uri": "https://localhost:8080/",
          "height": 35
        },
        "outputId": "be93667b-1368-4f29-d477-c10a772d29fd"
      },
      "source": [
        "# полнота\n",
        "scores_log_reg.append(recall_score(y_test, prediction))\n",
        "recall_score(y_test, prediction)"
      ],
      "execution_count": null,
      "outputs": [
        {
          "output_type": "execute_result",
          "data": {
            "text/plain": [
              "0.3785438573139891"
            ]
          },
          "metadata": {
            "tags": []
          },
          "execution_count": 245
        }
      ]
    },
    {
      "cell_type": "code",
      "metadata": {
        "id": "GIUMxWzJcJfS",
        "colab": {
          "base_uri": "https://localhost:8080/",
          "height": 35
        },
        "outputId": "aaa77235-c3a4-460c-865d-f0e18643ec91"
      },
      "source": [
        "# точность\n",
        "scores_log_reg.append(precision_score(y_test, prediction))\n",
        "precision_score(y_test, prediction)"
      ],
      "execution_count": null,
      "outputs": [
        {
          "output_type": "execute_result",
          "data": {
            "text/plain": [
              "0.7808896210873146"
            ]
          },
          "metadata": {
            "tags": []
          },
          "execution_count": 246
        }
      ]
    },
    {
      "cell_type": "code",
      "metadata": {
        "id": "pO2ssxsUcK3p",
        "colab": {
          "base_uri": "https://localhost:8080/",
          "height": 35
        },
        "outputId": "d9ec5a47-1e1b-4255-b231-8d8be6318c29"
      },
      "source": [
        "scores_log_reg.append(f1_score(y_test, prediction))\n",
        "f1_score(y_test, prediction)"
      ],
      "execution_count": null,
      "outputs": [
        {
          "output_type": "execute_result",
          "data": {
            "text/plain": [
              "0.5099058718063648"
            ]
          },
          "metadata": {
            "tags": []
          },
          "execution_count": 247
        }
      ]
    },
    {
      "cell_type": "code",
      "metadata": {
        "id": "SxONPlLkcMIJ",
        "colab": {
          "base_uri": "https://localhost:8080/",
          "height": 35
        },
        "outputId": "b7941488-6a8b-4b44-a43e-1a952f501a82"
      },
      "source": [
        "scores_log_reg.append(roc_auc_score(y_test, prediction))\n",
        "roc_auc_score(y_test, prediction)"
      ],
      "execution_count": null,
      "outputs": [
        {
          "output_type": "execute_result",
          "data": {
            "text/plain": [
              "0.6748592715265221"
            ]
          },
          "metadata": {
            "tags": []
          },
          "execution_count": 248
        }
      ]
    },
    {
      "cell_type": "markdown",
      "metadata": {
        "id": "JVPyM77lGvzB"
      },
      "source": [
        "# Вывод"
      ]
    },
    {
      "cell_type": "markdown",
      "metadata": {
        "id": "BqYFxTrkplYC"
      },
      "source": [
        "Сравним показатели метрик всех применённых моделей:"
      ]
    },
    {
      "cell_type": "code",
      "metadata": {
        "id": "_wBaYg6ffhi0",
        "colab": {
          "base_uri": "https://localhost:8080/",
          "height": 141
        },
        "outputId": "28e8dcb9-927e-4f15-e61b-a1a1cfe8882e"
      },
      "source": [
        "res_arr = np.array([scores_bayes, scores_neighbor, scores_log_reg])\n",
        "res = pd.DataFrame(res_arr, columns = ['accuracy', 'recall', 'precision', 'f1_score', 'roc_auc_score'], index = ['NaiveBayes', 'KNeighbors', 'LogisticRegression'])\n",
        "res"
      ],
      "execution_count": null,
      "outputs": [
        {
          "output_type": "execute_result",
          "data": {
            "text/html": [
              "<div>\n",
              "<style scoped>\n",
              "    .dataframe tbody tr th:only-of-type {\n",
              "        vertical-align: middle;\n",
              "    }\n",
              "\n",
              "    .dataframe tbody tr th {\n",
              "        vertical-align: top;\n",
              "    }\n",
              "\n",
              "    .dataframe thead th {\n",
              "        text-align: right;\n",
              "    }\n",
              "</style>\n",
              "<table border=\"1\" class=\"dataframe\">\n",
              "  <thead>\n",
              "    <tr style=\"text-align: right;\">\n",
              "      <th></th>\n",
              "      <th>accuracy</th>\n",
              "      <th>recall</th>\n",
              "      <th>precision</th>\n",
              "      <th>f1_score</th>\n",
              "      <th>roc_auc_score</th>\n",
              "    </tr>\n",
              "  </thead>\n",
              "  <tbody>\n",
              "    <tr>\n",
              "      <th>NaiveBayes</th>\n",
              "      <td>0.836066</td>\n",
              "      <td>0.530414</td>\n",
              "      <td>0.639955</td>\n",
              "      <td>0.580058</td>\n",
              "      <td>0.724714</td>\n",
              "    </tr>\n",
              "    <tr>\n",
              "      <th>KNeighbors</th>\n",
              "      <td>0.844277</td>\n",
              "      <td>0.453614</td>\n",
              "      <td>0.712375</td>\n",
              "      <td>0.554282</td>\n",
              "      <td>0.701955</td>\n",
              "    </tr>\n",
              "    <tr>\n",
              "      <th>LogisticRegression</th>\n",
              "      <td>0.844674</td>\n",
              "      <td>0.378544</td>\n",
              "      <td>0.780890</td>\n",
              "      <td>0.509906</td>\n",
              "      <td>0.674859</td>\n",
              "    </tr>\n",
              "  </tbody>\n",
              "</table>\n",
              "</div>"
            ],
            "text/plain": [
              "                    accuracy    recall  precision  f1_score  roc_auc_score\n",
              "NaiveBayes          0.836066  0.530414   0.639955  0.580058       0.724714\n",
              "KNeighbors          0.844277  0.453614   0.712375  0.554282       0.701955\n",
              "LogisticRegression  0.844674  0.378544   0.780890  0.509906       0.674859"
            ]
          },
          "metadata": {
            "tags": []
          },
          "execution_count": 251
        }
      ]
    },
    {
      "cell_type": "markdown",
      "metadata": {
        "id": "yc7rmUs_prwv"
      },
      "source": [
        "Как видно из таблицы, Байес показал наилучший результат в предсказании. Хотя он значительно уступает в precision, по recall и по общим оценкам (f1, AUC) он впереди. В принципе, с учётом специфики решаемой задачи recall, пожалуй, важнее, чем precison (так как false negative в случае наличия дождя приведёт к тому, что человек промокнет, а false positive всего лишь заставит зря носить весь день зонт).\n",
        "\n",
        "Исходя из вышесказанного, можно подытожить, что из трёх предложенных моделей Байес лучше всего подходит для решения исходной задачи.\n",
        "\n",
        "Что можно было сделать помимо этого? Во-первых, получше провести селекцию признаков (настораживает, что при дропе очевидно коррелирующих признаков качество работы модели ухудшается). Во-вторых, можно было бы провести нормализацию данных и улучшить работу логистической регрессии регуляризацией. В-третьих, не лишним было бы провести кросс-валидацию."
      ]
    }
  ]
}